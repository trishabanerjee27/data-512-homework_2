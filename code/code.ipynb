{
 "cells": [
  {
   "cell_type": "code",
   "execution_count": 41,
   "metadata": {},
   "outputs": [
    {
     "name": "stdout",
     "output_type": "stream",
     "text": [
      "                   name                                                url  \\\n",
      "0        Majah Ha Adrif       https://en.wikipedia.org/wiki/Majah_Ha_Adrif   \n",
      "1     Haroon al-Afghani    https://en.wikipedia.org/wiki/Haroon_al-Afghani   \n",
      "2           Tayyab Agha          https://en.wikipedia.org/wiki/Tayyab_Agha   \n",
      "3  Khadija Zahra Ahmadi  https://en.wikipedia.org/wiki/Khadija_Zahra_Ah...   \n",
      "4        Aziza Ahmadyar       https://en.wikipedia.org/wiki/Aziza_Ahmadyar   \n",
      "\n",
      "       country  \n",
      "0  Afghanistan  \n",
      "1  Afghanistan  \n",
      "2  Afghanistan  \n",
      "3  Afghanistan  \n",
      "4  Afghanistan  \n",
      "         Geography  Population\n",
      "0            WORLD      8009.0\n",
      "1           AFRICA      1453.0\n",
      "2  NORTHERN AFRICA       256.0\n",
      "3          Algeria        46.8\n",
      "4            Egypt       105.2\n"
     ]
    },
    {
     "data": {
      "text/plain": [
       "Geography     233\n",
       "Population    233\n",
       "dtype: int64"
      ]
     },
     "execution_count": 41,
     "metadata": {},
     "output_type": "execute_result"
    }
   ],
   "source": [
    "import pandas as pd\n",
    "\n",
    "#Load the politicians data\n",
    "politicians_df = pd.read_csv('../data/politicians_by_country_AUG.2024.csv')\n",
    "\n",
    "#Load the population data\n",
    "population_df = pd.read_csv('../data/population_by_country_AUG.2024.csv')\n",
    "\n",
    "#View the first few rows of each dataset\n",
    "print(politicians_df.head())\n",
    "politicians_df.count()\n",
    "\n",
    "print(population_df.head())\n",
    "population_df.count()\n"
   ]
  },
  {
   "cell_type": "code",
   "execution_count": 42,
   "metadata": {},
   "outputs": [
    {
     "name": "stdout",
     "output_type": "stream",
     "text": [
      "0\n",
      "44\n",
      "44\n"
     ]
    }
   ],
   "source": [
    "#Check for duplicates based on all columns\n",
    "duplicate_politicians_all = politicians_df[politicians_df.duplicated()]\n",
    "print(len(duplicate_politicians_all))\n",
    "\n",
    "#Check for duplicates based on name + url\n",
    "duplicate_politicians_name = politicians_df[politicians_df.duplicated(subset=['name'])]\n",
    "duplicate_politicians_url = politicians_df[politicians_df.duplicated(subset=['url'])]\n",
    "print(len(duplicate_politicians_name))\n",
    "print(len(duplicate_politicians_url))\n",
    "\n",
    "#This means that the only thing setting them apart is different countries for the same name and url.\n",
    "\n",
    "\n"
   ]
  },
  {
   "cell_type": "code",
   "execution_count": 43,
   "metadata": {},
   "outputs": [
    {
     "name": "stdout",
     "output_type": "stream",
     "text": [
      "0\n",
      "0\n"
     ]
    }
   ],
   "source": [
    "#Check for duplicates based on all columns\n",
    "duplicate_population_all = population_df[population_df.duplicated()]\n",
    "print(len(duplicate_population_all))\n",
    "\n",
    "#Check for duplicates based on geography\n",
    "duplicate_population_geo = population_df[population_df.duplicated(subset=['Geography'])]\n",
    "print(len(duplicate_population_geo))\n"
   ]
  },
  {
   "cell_type": "code",
   "execution_count": 46,
   "metadata": {},
   "outputs": [],
   "source": [
    "# 44 of politician appear in mulitple countries (2 or more). This has been decided (based on the Wikipedia API)\n",
    "#either by their nationalities or the next country served, so it makes sense to have them be a part of both/all \n",
    "#the countries their names appear in\n",
    "\n",
    "# however we keep a copy of the duplicate politicians\n",
    "combined_duplicates = pd.concat([duplicate_politicians_name, duplicate_politicians_url]).drop_duplicates()\n",
    "combined_duplicates.to_csv('combined_duplicates_politicians.csv', index=False)\n",
    "\n"
   ]
  },
  {
   "cell_type": "code",
   "execution_count": 49,
   "metadata": {},
   "outputs": [
    {
     "data": {
      "text/plain": [
       "Geography     209\n",
       "Population    209\n",
       "dtype: int64"
      ]
     },
     "execution_count": 49,
     "metadata": {},
     "output_type": "execute_result"
    }
   ],
   "source": [
    "import pandas as pd\n",
    "\n",
    "#create a new column to check if Geography is in all caps\n",
    "population_df['is_region'] = population_df['Geography'].apply(lambda x: x.isupper())\n",
    "\n",
    "df_region = population_df[population_df['is_region'] == True].copy()\n",
    "df_country = population_df[population_df['is_region'] == False].copy()\n",
    "\n",
    "# Drop the helper column\n",
    "df_region = df_region.drop(columns=['is_region'])\n",
    "df_country = df_country.drop(columns=['is_region'])\n",
    "\n",
    "df_country.count()\n",
    "# df_region.to_csv('population_by_region.csv', index=False)\n",
    "# df_country.to_csv('population_by_country.csv', index=False)\n",
    "\n"
   ]
  },
  {
   "cell_type": "code",
   "execution_count": 9,
   "metadata": {},
   "outputs": [
    {
     "name": "stdout",
     "output_type": "stream",
     "text": [
      "name       0\n",
      "url        0\n",
      "country    0\n",
      "dtype: int64\n",
      "Geography     0\n",
      "Population    0\n",
      "dtype: int64\n"
     ]
    }
   ],
   "source": [
    "# Check for missing values in each column\n",
    "missing_values_politicians = politicians_df.isnull().sum()\n",
    "print(missing_values_politicians)\n",
    "\n",
    "# Check for missing values in each column\n",
    "missing_values_population = population_df.isnull().sum()\n",
    "print(missing_values_population)\n",
    "\n"
   ]
  },
  {
   "cell_type": "code",
   "execution_count": null,
   "metadata": {},
   "outputs": [],
   "source": [
    "# Step 1: Clean the Politicians Data\n",
    "# Drop any duplicate rows based on name and URL (just in case)\n",
    "politicians_df.drop_duplicates(subset=['name', 'url'], inplace=True)\n",
    "\n",
    "# Verify if there are any missing values in key columns (name, url, country)\n",
    "missing_values = politicians_df.isnull().sum()\n",
    "print(\"\\nMissing Values in Politicians Dataset:\")\n",
    "print(missing_values)\n",
    "\n",
    "# Step 2: Clean the Population Data\n",
    "# Ensure 'geography' column in the population data is properly formatted\n",
    "# Capitalized rows indicate regions, so we should keep these separate for now\n",
    "population_df['is_region'] = population_df['Geography'].apply(lambda x: x.isupper())\n",
    "\n",
    "# Separate country-level data and region-level data\n",
    "country_population_df = population_df[~population_df['is_region']].copy()\n",
    "region_population_df = population_df[population_df['is_region']].copy()\n",
    "\n",
    "# Strip any leading/trailing spaces from the 'Geography' column\n",
    "country_population_df['Geography'] = country_population_df['Geography'].str.strip()\n",
    "\n",
    "# Convert 'Population' column to numeric, handling any non-numeric values\n",
    "country_population_df['Population'] = pd.to_numeric(country_population_df['Population'], errors='coerce')\n",
    "\n",
    "# Check for missing values in the population data\n",
    "missing_population = country_population_df.isnull().sum()\n",
    "print(\"\\nMissing Values in Population Dataset (Country Level):\")\n",
    "print(missing_population)\n",
    "\n",
    "# Document inconsistencies in both datasets\n",
    "# Politicians dataset: Any rows with missing country, URL, or name can be noted or removed\n",
    "cleaned_politicians_df = politicians_df.dropna(subset=['country', 'name', 'url'])\n",
    "\n",
    "# Population dataset: Missing population values can be investigated or flagged\n",
    "# For now, we'll drop countries without population data for simplicity\n",
    "cleaned_population_df = country_population_df.dropna(subset=['Population'])\n",
    "\n",
    "# Step 3: Handle Data Inconsistencies\n",
    "# Example: There might be countries in the politicians dataset that do not appear in the population data and vice versa.\n",
    "# Let's check for countries in the politicians dataset that are not in the population data.\n",
    "\n",
    "politician_countries = cleaned_politicians_df['country'].unique()\n",
    "population_countries = cleaned_population_df['Geography'].unique()\n",
    "\n",
    "# Find missing countries in either dataset\n",
    "missing_in_population = set(politician_countries) - set(population_countries)\n",
    "missing_in_politicians = set(population_countries) - set(politician_countries)\n",
    "\n",
    "print(\"\\nCountries in Politicians Data but Missing in Population Data:\")\n",
    "print(missing_in_population)\n",
    "\n",
    "print(\"\\nCountries in Population Data but Missing in Politicians Data:\")\n",
    "print(missing_in_politicians)\n",
    "\n",
    "# Document how to handle these inconsistencies\n",
    "# Option 1: Drop entries that don't match across datasets\n",
    "# Option 2: Keep unmatched countries and investigate them separately\n"
   ]
  },
  {
   "cell_type": "code",
   "execution_count": null,
   "metadata": {},
   "outputs": [],
   "source": []
  }
 ],
 "metadata": {
  "kernelspec": {
   "display_name": "Python 3",
   "language": "python",
   "name": "python3"
  },
  "language_info": {
   "codemirror_mode": {
    "name": "ipython",
    "version": 3
   },
   "file_extension": ".py",
   "mimetype": "text/x-python",
   "name": "python",
   "nbconvert_exporter": "python",
   "pygments_lexer": "ipython3",
   "version": "3.12.3"
  },
  "orig_nbformat": 4
 },
 "nbformat": 4,
 "nbformat_minor": 2
}
